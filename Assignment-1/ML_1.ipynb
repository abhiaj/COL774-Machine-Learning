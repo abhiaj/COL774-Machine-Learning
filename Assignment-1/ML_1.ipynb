{
  "nbformat": 4,
  "nbformat_minor": 0,
  "metadata": {
    "colab": {
      "name": "ML_1.ipynb",
      "version": "0.3.2",
      "provenance": [],
      "collapsed_sections": [],
      "toc_visible": true
    },
    "kernelspec": {
      "name": "python3",
      "display_name": "Python 3"
    }
  },
  "cells": [
    {
      "metadata": {
        "id": "-DZDTZYJ8W70",
        "colab_type": "code",
        "colab": {}
      },
      "cell_type": "code",
      "source": [
        "import numpy as np\n",
        "import pandas as pd\n",
        "import matplotlib.pyplot as plt\n",
        "from scipy import linalg"
      ],
      "execution_count": 0,
      "outputs": []
    },
    {
      "metadata": {
        "id": "0uFi1jks8pVx",
        "colab_type": "code",
        "colab": {}
      },
      "cell_type": "code",
      "source": [
        "x_data = pd.read_csv(\"linearX.csv\",header=None)\n",
        "y_data = pd.read_csv(\"linearY.csv\",header=None)\n",
        "x_data.insert(0,'index',1)\n",
        "x = np.asmatrix(np.array(x_data))\n",
        "y = np.asmatrix(np.array(y_data))"
      ],
      "execution_count": 0,
      "outputs": []
    },
    {
      "metadata": {
        "id": "yjkFjMm39yI6",
        "colab_type": "code",
        "colab": {}
      },
      "cell_type": "code",
      "source": [
        "theta = np.asmatrix(np.zeros((x.shape[1],1),dtype=float,order='F'))\n",
        "prod = x*theta"
      ],
      "execution_count": 0,
      "outputs": []
    },
    {
      "metadata": {
        "id": "8IpL7blHED9b",
        "colab_type": "code",
        "colab": {}
      },
      "cell_type": "code",
      "source": [
        "def compute_cost(x,y,theta):\n",
        "  prod = x*theta\n",
        "  diff = y-prod\n",
        "  rv = np.multiply(diff,diff)\n",
        "  return rv\n",
        "\n",
        "def normalize(x):\n",
        "  x\n",
        "  return x_data"
      ],
      "execution_count": 0,
      "outputs": []
    },
    {
      "metadata": {
        "id": "rg6Pi6s5FNio",
        "colab_type": "code",
        "outputId": "1fb337a4-4cc1-4092-bdaf-47e982aa9770",
        "colab": {
          "base_uri": "https://localhost:8080/",
          "height": 1717
        }
      },
      "cell_type": "code",
      "source": [
        "compute_cost(x,y,theta)"
      ],
      "execution_count": 8,
      "outputs": [
        {
          "output_type": "execute_result",
          "data": {
            "text/plain": [
              "matrix([[0.99048275],\n",
              "        [0.9802386 ],\n",
              "        [0.99538534],\n",
              "        [0.9877577 ],\n",
              "        [0.99018421],\n",
              "        [0.99261369],\n",
              "        [1.00641024],\n",
              "        [0.99536538],\n",
              "        [0.99169731],\n",
              "        [0.99219529],\n",
              "        [0.99548511],\n",
              "        [1.00060009],\n",
              "        [0.99388936],\n",
              "        [0.99930012],\n",
              "        [0.99100034],\n",
              "        [0.98732045],\n",
              "        [0.98759869],\n",
              "        [0.98761856],\n",
              "        [0.99050266],\n",
              "        [0.99760144],\n",
              "        [0.99466713],\n",
              "        [0.99321156],\n",
              "        [0.99102025],\n",
              "        [0.98944798],\n",
              "        [0.98712173],\n",
              "        [0.99572458],\n",
              "        [0.99301225],\n",
              "        [0.99760144],\n",
              "        [0.99281296],\n",
              "        [0.99426824],\n",
              "        [0.99700225],\n",
              "        [0.99131892],\n",
              "        [0.99157781],\n",
              "        [0.99520576],\n",
              "        [1.00280196],\n",
              "        [0.99370992],\n",
              "        [0.99297239],\n",
              "        [0.98946788],\n",
              "        [0.99828074],\n",
              "        [0.98819505],\n",
              "        [0.99480676],\n",
              "        [1.00040004],\n",
              "        [0.98807576],\n",
              "        [0.99321156],\n",
              "        [0.98807576],\n",
              "        [1.00580841],\n",
              "        [0.99436795],\n",
              "        [0.99720196],\n",
              "        [0.99042304],\n",
              "        [0.99042304],\n",
              "        [0.99440784],\n",
              "        [0.99520576],\n",
              "        [0.99361024],\n",
              "        [0.99560484],\n",
              "        [0.99022401],\n",
              "        [0.99259376],\n",
              "        [0.99313183],\n",
              "        [0.998001  ],\n",
              "        [0.99672269],\n",
              "        [0.98795648],\n",
              "        [0.98777758],\n",
              "        [1.00080016],\n",
              "        [0.99440784],\n",
              "        [0.99440784],\n",
              "        [0.99094061],\n",
              "        [0.99560484],\n",
              "        [0.99193632],\n",
              "        [0.99145832],\n",
              "        [0.99840064],\n",
              "        [0.99090079],\n",
              "        [0.9949464 ],\n",
              "        [0.99337102],\n",
              "        [0.99241444],\n",
              "        [0.98696277],\n",
              "        [0.99030362],\n",
              "        [0.98954746],\n",
              "        [1.002001  ],\n",
              "        [0.99221521],\n",
              "        [0.99197616],\n",
              "        [0.99217537],\n",
              "        [0.99321156],\n",
              "        [0.99464718],\n",
              "        [0.99241444],\n",
              "        [0.99094061],\n",
              "        [0.99476686],\n",
              "        [0.98914959],\n",
              "        [0.99321156],\n",
              "        [0.99107998],\n",
              "        [0.99680256],\n",
              "        [0.99042304],\n",
              "        [0.994009  ],\n",
              "        [0.99173714],\n",
              "        [0.99680256],\n",
              "        [0.99086098],\n",
              "        [0.9931119 ],\n",
              "        [0.99241444],\n",
              "        [0.99520576],\n",
              "        [0.98930873],\n",
              "        [0.99660289],\n",
              "        [0.99341089]])"
            ]
          },
          "metadata": {
            "tags": []
          },
          "execution_count": 8
        }
      ]
    }
  ]
}