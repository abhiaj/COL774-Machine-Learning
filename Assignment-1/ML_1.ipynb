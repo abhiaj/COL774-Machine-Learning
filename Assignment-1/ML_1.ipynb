{
  "nbformat": 4,
  "nbformat_minor": 0,
  "metadata": {
    "colab": {
      "name": "ML_1.ipynb",
      "version": "0.3.2",
      "provenance": [],
      "collapsed_sections": [],
      "toc_visible": true
    },
    "kernelspec": {
      "name": "python3",
      "display_name": "Python 3"
    }
  },
  "cells": [
    {
      "metadata": {
        "id": "-DZDTZYJ8W70",
        "colab_type": "code",
        "colab": {}
      },
      "cell_type": "code",
      "source": [
        "import numpy as np\n",
        "import pandas as pd\n",
        "import matplotlib.pyplot as plt\n",
        "from scipy import linalg"
      ],
      "execution_count": 0,
      "outputs": []
    },
    {
      "metadata": {
        "id": "0uFi1jks8pVx",
        "colab_type": "code",
        "colab": {}
      },
      "cell_type": "code",
      "source": [
        "def read_params():\n",
        "  x_data = pd.read_csv(\"linearX.csv\",header=None)\n",
        "  y_data = pd.read_csv(\"linearY.csv\",header=None)\n",
        "  x = np.asmatrix(np.array(x_data))\n",
        "  y = np.asmatrix(np.array(y_data))\n",
        "#   print(\"before normalizing\")\n",
        "#   print(x)\n",
        "#   plot(x,y)\n",
        "  x = normalize(x)\n",
        "  return (x,y)"
      ],
      "execution_count": 0,
      "outputs": []
    },
    {
      "metadata": {
        "id": "mlrxU_VzI0Ig",
        "colab_type": "text"
      },
      "cell_type": "markdown",
      "source": [
        "read parameters from the csv files and normalize them first. Then add column vector of 1"
      ]
    },
    {
      "metadata": {
        "id": "eMGbrDzMDDQ-",
        "colab_type": "code",
        "colab": {}
      },
      "cell_type": "code",
      "source": [
        "def normalize(mat):\n",
        "  mean = np.mean(mat,axis=0)\n",
        "  var = np.var(mat,axis=0)\n",
        "  \n",
        "#   print(mean)\n",
        "#   for i in range (len(mat)):\n",
        "#     mat[i,:] = mat[i,:] - mean\n",
        "#   print(\"after mean\")\n",
        "#   print(mat)\n",
        "  \n",
        "#   print(var)\n",
        "#   for i in range (len(mat)):\n",
        "#     mat[i,:] = mat[i,:]/var\n",
        "#   print(\"after variance\")\n",
        "#   print(mat)\n",
        "\n",
        "  for i in range (len(mat)):\n",
        "    mat[i,:] = mat[i,:] - mean\n",
        "    mat[i,:] = mat[i,:]/var\n",
        "  z = np.zeros((mat.shape[0],1),dtype=float)\n",
        "  z+=1\n",
        "  z = np.hstack((z,mat))\n",
        "  return z"
      ],
      "execution_count": 0,
      "outputs": []
    },
    {
      "metadata": {
        "id": "-nnulCZLn9Rw",
        "colab_type": "code",
        "colab": {}
      },
      "cell_type": "code",
      "source": [
        "def compute_cost(x,y,theta):\n",
        "  prod = np.dot(x,theta)\n",
        "  diff = y-prod\n",
        "  diff = np.multiply(diff,diff)\n",
        "  rv = np.sum(diff,axis=0)\n",
        "  rv/=(2*len(x))\n",
        "  return rv"
      ],
      "execution_count": 0,
      "outputs": []
    },
    {
      "metadata": {
        "id": "bULohSG4EQOw",
        "colab_type": "text"
      },
      "cell_type": "markdown",
      "source": [
        "Here ddof might give a different answer. crosscheck it once"
      ]
    },
    {
      "metadata": {
        "id": "8IpL7blHED9b",
        "colab_type": "code",
        "outputId": "9895048c-b48e-4f3c-b9b9-a3d3f855829d",
        "colab": {
          "base_uri": "https://localhost:8080/",
          "height": 1122
        }
      },
      "cell_type": "code",
      "source": [
        "# x=normalize(x_data)\n",
        "# print(x)\n",
        "# print(x.shape)"
      ],
      "execution_count": 0,
      "outputs": [
        {
          "output_type": "stream",
          "text": [
            "    index         0\n",
            "0       1  0.349594\n",
            "1       1 -0.020881\n",
            "2       1  0.349594\n",
            "3       1  0.113837\n",
            "4       1 -0.391357\n",
            "5       1 -0.121920\n",
            "6       1  2.538769\n",
            "7       1 -0.256639\n",
            "8       1 -0.357677\n",
            "9       1 -0.290318\n",
            "10      1  0.686390\n",
            "11      1  1.157905\n",
            "12      1 -0.323998\n",
            "13      1  0.652711\n",
            "14      1  0.282235\n",
            "15      1 -0.054561\n",
            "16      1 -0.829192\n",
            "17      1 -0.593435\n",
            "18      1 -0.458716\n",
            "19      1  0.787429\n",
            "20      1  0.147517\n",
            "21      1 -0.222959\n",
            "22      1 -0.593435\n",
            "23      1 -0.896551\n",
            "24      1  0.282235\n",
            "25      1  0.450633\n",
            "26      1 -0.189279\n",
            "27      1  1.292623\n",
            "28      1 -0.088241\n",
            "29      1 -0.222959\n",
            "..    ...       ...\n",
            "70      1  0.046478\n",
            "71      1 -0.054561\n",
            "72      1 -0.323998\n",
            "73      1 -0.829192\n",
            "74      1 -0.559755\n",
            "75      1 -0.189279\n",
            "76      1  0.585352\n",
            "77      1 -0.357677\n",
            "78      1  0.821109\n",
            "79      1 -0.323998\n",
            "80      1 -0.627114\n",
            "81      1 -0.526075\n",
            "82      1 -0.121920\n",
            "83      1 -0.290318\n",
            "84      1  0.416954\n",
            "85      1  0.147517\n",
            "86      1 -0.121920\n",
            "87      1 -0.425037\n",
            "88      1 -0.088241\n",
            "89      1  0.214876\n",
            "90      1  0.517992\n",
            "91      1 -0.290318\n",
            "92      1  0.416954\n",
            "93      1  0.012798\n",
            "94      1 -0.492396\n",
            "95      1 -0.088241\n",
            "96      1  0.720070\n",
            "97      1 -0.660794\n",
            "98      1 -0.256639\n",
            "99      1 -0.256639\n",
            "\n",
            "[100 rows x 2 columns]\n",
            "(100, 2)\n"
          ],
          "name": "stdout"
        }
      ]
    },
    {
      "metadata": {
        "id": "QixjCU2FrLqZ",
        "colab_type": "code",
        "colab": {}
      },
      "cell_type": "code",
      "source": [
        "# theta = np.asmatrix(np.zeros((x.shape[1],1),dtype=float,order='F'))"
      ],
      "execution_count": 0,
      "outputs": []
    },
    {
      "metadata": {
        "id": "ZbwUooLSpHby",
        "colab_type": "code",
        "colab": {}
      },
      "cell_type": "code",
      "source": [
        "def gradient(x,y,theta):\n",
        "  diff = np.dot(x,theta) - y\n",
        "  grad2 = np.asmatrix(np.zeros((x.shape[0],x.shape[1]),dtype=float))\n",
        "  for i in range (len(diff)):\n",
        "    grad2[i,:] = np.multiply(x[i,:],diff[i])\n",
        "  grad = np.sum(grad2,axis=0).transpose()\n",
        "  return grad"
      ],
      "execution_count": 0,
      "outputs": []
    },
    {
      "metadata": {
        "id": "VJOHtWRZ39vw",
        "colab_type": "text"
      },
      "cell_type": "markdown",
      "source": [
        "gradient function completion is pending"
      ]
    },
    {
      "metadata": {
        "id": "5P8f6Fjk50kU",
        "colab_type": "code",
        "outputId": "4d0d02dd-ebc6-4a99-c67d-77421f72bd37",
        "colab": {
          "base_uri": "https://localhost:8080/",
          "height": 51
        }
      },
      "cell_type": "code",
      "source": [
        "# grad = gradient(x,y,theta)\n",
        "# grad.shape\n",
        "# print(grad)"
      ],
      "execution_count": 0,
      "outputs": [
        {
          "output_type": "stream",
          "text": [
            "[[0.]\n",
            " [0.]]\n"
          ],
          "name": "stdout"
        }
      ]
    },
    {
      "metadata": {
        "id": "kZToFqoe-_Nd",
        "colab_type": "code",
        "colab": {}
      },
      "cell_type": "code",
      "source": [
        "def plot(x,y):\n",
        "  plt.plot(x,y,'ro')\n",
        "  plt.show()\n",
        "  return"
      ],
      "execution_count": 0,
      "outputs": []
    },
    {
      "metadata": {
        "id": "tB7BvVRSQbuP",
        "colab_type": "code",
        "colab": {}
      },
      "cell_type": "code",
      "source": [
        "def algo(x,y,theta,alpha):\n",
        "  num_iter = 100\n",
        "  while(num_iter!=0):\n",
        "#     print(compute_cost(x,y,theta))\n",
        "    grad = gradient(x,y,theta)\n",
        "#     print(grad)\n",
        "    theta-=alpha*grad\n",
        "    num_iter-=1\n",
        "  return"
      ],
      "execution_count": 0,
      "outputs": []
    },
    {
      "metadata": {
        "id": "nC-h-eajQALb",
        "colab_type": "code",
        "colab": {}
      },
      "cell_type": "code",
      "source": [
        "def main():\n",
        "  (x,y) = read_params()\n",
        "  theta = np.asmatrix(np.zeros((x.shape[1],1),dtype=float,order='F'))\n",
        "  alpha = 0.003\n",
        "  algo(x,y,theta,alpha)\n",
        "  plot(x,theta)"
      ],
      "execution_count": 0,
      "outputs": []
    },
    {
      "metadata": {
        "id": "-43s5w4CRB8t",
        "colab_type": "code",
        "colab": {
          "base_uri": "https://localhost:8080/",
          "height": 347
        },
        "outputId": "38e74307-2ec9-4914-f79c-5d928100ea2c"
      },
      "cell_type": "code",
      "source": [
        "main()"
      ],
      "execution_count": 23,
      "outputs": [
        {
          "output_type": "display_data",
          "data": {
            "image/png": "[encoded data removed]",
            "text/plain": [
              "<Figure size 576x396 with 1 Axes>"
            ]
          },
          "metadata": {
            "tags": []
          }
        }
      ]
    },
    {
      "metadata": {
        "id": "EdwTTDQ7M5dc",
        "colab_type": "code",
        "colab": {}
      },
      "cell_type": "code",
      "source": [
        "def plot(x,theta):\n",
        "  x_data = pd.read_csv(\"linearX.csv\",header=None)\n",
        "  x_pm = np.asmatrix(np.array(x_data))\n",
        "  x_pm = normalize(x_pm)\n",
        "  y = np.dot(x_pm,theta)\n",
        "  plt.plot(x,y)\n",
        "#   plt.plot(x,'ro')\n",
        "  plt.show()\n",
        "  return"
      ],
      "execution_count": 0,
      "outputs": []
    },
    {
      "metadata": {
        "id": "djpRIkDHPSt5",
        "colab_type": "code",
        "colab": {
          "base_uri": "https://localhost:8080/",
          "height": 347
        },
        "outputId": "d296d909-d956-4fd2-c3a0-fcb06ac20a4b"
      },
      "cell_type": "code",
      "source": [
        "main()"
      ],
      "execution_count": 43,
      "outputs": [
        {
          "output_type": "display_data",
          "data": {
            "image/png": "[encoded data removed]",
            "text/plain": [
              "<Figure size 576x396 with 1 Axes>"
            ]
          },
          "metadata": {
            "tags": []
          }
        }
      ]
    }
  ]
}