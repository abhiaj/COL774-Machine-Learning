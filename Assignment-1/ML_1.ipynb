{
  "nbformat": 4,
  "nbformat_minor": 0,
  "metadata": {
    "colab": {
      "name": "ML_1.ipynb",
      "version": "0.3.2",
      "provenance": [],
      "collapsed_sections": [],
      "toc_visible": true
    },
    "kernelspec": {
      "name": "python3",
      "display_name": "Python 3"
    }
  },
  "cells": [
    {
      "metadata": {
        "id": "-DZDTZYJ8W70",
        "colab_type": "code",
        "colab": {}
      },
      "cell_type": "code",
      "source": [
        "import numpy as np\n",
        "import pandas as pd\n",
        "import matplotlib.pyplot as plt\n",
        "from scipy import linalg"
      ],
      "execution_count": 0,
      "outputs": []
    },
    {
      "metadata": {
        "id": "0uFi1jks8pVx",
        "colab_type": "code",
        "colab": {}
      },
      "cell_type": "code",
      "source": [
        "x_data = pd.read_csv(\"linearX.csv\",header=None)\n",
        "y_data = pd.read_csv(\"linearY.csv\",header=None)\n",
        "x = np.asmatrix(np.array(x_data))\n",
        "y = np.asmatrix(np.array(y_data))"
      ],
      "execution_count": 0,
      "outputs": []
    },
    {
      "metadata": {
        "id": "mlrxU_VzI0Ig",
        "colab_type": "text"
      },
      "cell_type": "markdown",
      "source": [
        "read parameters from the csv files and normalize them first. Then add column vector of 1"
      ]
    },
    {
      "metadata": {
        "id": "eMGbrDzMDDQ-",
        "colab_type": "code",
        "colab": {}
      },
      "cell_type": "code",
      "source": [
        "def normalize(mat):\n",
        "  mean = np.mean(mat,axis=0)\n",
        "  var = np.var(mat,axis=0)\n",
        "  \n",
        "  for i in range (len(mat)):\n",
        "    mat.iloc[i,:] = mat.iloc[i,:] - mean.transpose()\n",
        "    mat.iloc[i,:] = mat.iloc[i,:]/var.transpose()\n",
        "  \n",
        "  mat.insert(0,'index',1)\n",
        "  return mat"
      ],
      "execution_count": 0,
      "outputs": []
    },
    {
      "metadata": {
        "id": "-nnulCZLn9Rw",
        "colab_type": "code",
        "colab": {}
      },
      "cell_type": "code",
      "source": [
        "def compute_cost(x,y,theta):\n",
        "  prod = x*theta\n",
        "  diff = y-prod\n",
        "  diff = np.multiply(diff,diff)\n",
        "  rv = np.sum(diff,axis=0)\n",
        "  return rv"
      ],
      "execution_count": 0,
      "outputs": []
    },
    {
      "metadata": {
        "id": "bULohSG4EQOw",
        "colab_type": "text"
      },
      "cell_type": "markdown",
      "source": [
        "Here ddof might give a different answer. crosscheck it once"
      ]
    },
    {
      "metadata": {
        "id": "8IpL7blHED9b",
        "colab_type": "code",
        "colab": {}
      },
      "cell_type": "code",
      "source": [
        "x=normalize(x_data)\n",
        "# print(x)"
      ],
      "execution_count": 0,
      "outputs": []
    },
    {
      "metadata": {
        "id": "QixjCU2FrLqZ",
        "colab_type": "code",
        "colab": {}
      },
      "cell_type": "code",
      "source": [
        "theta = np.asmatrix(np.zeros((x.shape[1],1),dtype=float,order='F'))"
      ],
      "execution_count": 0,
      "outputs": []
    },
    {
      "metadata": {
        "id": "ZbwUooLSpHby",
        "colab_type": "code",
        "colab": {}
      },
      "cell_type": "code",
      "source": [
        "def gradient(x,y,theta):\n",
        "  grad = np.asmatrix(np.zeros((theta.shape[1],1),dtype=float,order='F'))\n",
        "  return grad"
      ],
      "execution_count": 0,
      "outputs": []
    }
  ]
}