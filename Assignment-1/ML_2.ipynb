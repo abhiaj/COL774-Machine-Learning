{
  "nbformat": 4,
  "nbformat_minor": 0,
  "metadata": {
    "colab": {
      "name": "ML_2.ipynb",
      "version": "0.3.2",
      "provenance": []
    },
    "kernelspec": {
      "name": "python3",
      "display_name": "Python 3"
    }
  },
  "cells": [
    {
      "metadata": {
        "id": "utzyv7KQ80IW",
        "colab_type": "code",
        "colab": {}
      },
      "cell_type": "code",
      "source": [
        "import numpy as np\n",
        "import pandas as pd\n",
        "import matplotlib.pyplot as plt\n",
        "from scipy import linalg"
      ],
      "execution_count": 0,
      "outputs": []
    },
    {
      "metadata": {
        "id": "6sU0jPHV9BoI",
        "colab_type": "code",
        "colab": {}
      },
      "cell_type": "code",
      "source": [
        "def read_params():\n",
        "  x_data = pd.read_csv(\"weightedX.csv\",header=None)\n",
        "  y_data = pd.read_csv(\"weightedY.csv\",header=None)\n",
        "  x = np.asmatrix(np.array(x_data))\n",
        "  y = np.asmatrix(np.array(y_data))\n",
        "  x = normalize(x)\n",
        "  return (x,y)"
      ],
      "execution_count": 0,
      "outputs": []
    },
    {
      "metadata": {
        "id": "IQPV5Xsa9MOw",
        "colab_type": "code",
        "colab": {}
      },
      "cell_type": "code",
      "source": [
        "def normalize(mat):\n",
        "  mean = np.mean(mat,axis=0)\n",
        "  var = np.var(mat,axis=0)\n",
        "  for i in range (len(mat)):\n",
        "    mat[i,:] = mat[i,:] - mean\n",
        "    mat[i,:] = mat[i,:]/var\n",
        "  z = np.zeros((mat.shape[0],1),dtype=float)\n",
        "  z+=1\n",
        "  z = np.hstack((z,mat))\n",
        "  return z"
      ],
      "execution_count": 0,
      "outputs": []
    },
    {
      "metadata": {
        "id": "puWB7JYcAp7w",
        "colab_type": "code",
        "colab": {}
      },
      "cell_type": "code",
      "source": [
        "def local_weighted(x,y,theta,alpha):\n",
        "#   write for locally weighted linear regression\n",
        "  return"
      ],
      "execution_count": 0,
      "outputs": []
    },
    {
      "metadata": {
        "id": "J7aE4nUG9S2l",
        "colab_type": "code",
        "colab": {}
      },
      "cell_type": "code",
      "source": [
        "def get_theta(x,y,option):\n",
        "  theta = np.asmatrix(np.zeros((x.shape[1],1),dtype=float,order='F'))\n",
        "  alpha = 0.003\n",
        "  if(option==1):\n",
        "    grad_descent(x,y,theta,alpha)\n",
        "  else:\n",
        "    local_weighted(x,y,theta,alpha)\n",
        "  return theta"
      ],
      "execution_count": 0,
      "outputs": []
    },
    {
      "metadata": {
        "id": "eOWbMZg3--tj",
        "colab_type": "code",
        "colab": {}
      },
      "cell_type": "code",
      "source": [
        "def compute_cost(x,y,theta):\n",
        "  prod = np.dot(x,theta)\n",
        "  diff = y-prod\n",
        "  diff = np.multiply(diff,diff)\n",
        "  rv = np.sum(diff,axis=0)\n",
        "  rv/=(2*len(x))\n",
        "  return rv"
      ],
      "execution_count": 0,
      "outputs": []
    },
    {
      "metadata": {
        "id": "yoWtXpdH9sG9",
        "colab_type": "code",
        "colab": {}
      },
      "cell_type": "code",
      "source": [
        "def grad_descent(x,y,theta,alpha):\n",
        "  num_iter = 1000\n",
        "  while(num_iter!=0):\n",
        "    grad = gradient(x,y,theta)\n",
        "    theta-=alpha*grad\n",
        "    num_iter-=1\n",
        "#     print(num_iter)\n",
        "#     print(compute_cost(x,y,theta))\n",
        "  return"
      ],
      "execution_count": 0,
      "outputs": []
    },
    {
      "metadata": {
        "id": "Dk0Onbvm-F_i",
        "colab_type": "code",
        "colab": {}
      },
      "cell_type": "code",
      "source": [
        "def gradient(x,y,theta):\n",
        "  diff = np.dot(x,theta) - y\n",
        "  grad2 = np.asmatrix(np.zeros((x.shape[0],x.shape[1]),dtype=float))\n",
        "  for i in range (len(diff)):\n",
        "    grad2[i,:] = np.multiply(x[i,:],diff[i])\n",
        "  grad = np.sum(grad2,axis=0).transpose()\n",
        "  return grad"
      ],
      "execution_count": 0,
      "outputs": []
    },
    {
      "metadata": {
        "id": "oDS5-JW9-VEC",
        "colab_type": "code",
        "colab": {}
      },
      "cell_type": "code",
      "source": [
        "def main():\n",
        "  (x,y) = read_params()\n",
        "  option = 1\n",
        "  theta = get_theta(x,y,option)\n",
        "  plot(x,y,theta)\n",
        "  print(theta)\n",
        "  return"
      ],
      "execution_count": 0,
      "outputs": []
    },
    {
      "metadata": {
        "id": "np96hmcwARxg",
        "colab_type": "code",
        "colab": {}
      },
      "cell_type": "code",
      "source": [
        "def plot(x,y,theta):\n",
        "#   plot the data and the learned curve here\n",
        "  return"
      ],
      "execution_count": 0,
      "outputs": []
    },
    {
      "metadata": {
        "id": "A4WHTR4t-0BS",
        "colab_type": "code",
        "colab": {
          "base_uri": "https://localhost:8080/",
          "height": 51
        },
        "outputId": "4ce474f8-4a1a-4327-e87e-a184a395251d"
      },
      "cell_type": "code",
      "source": [
        "main()"
      ],
      "execution_count": 28,
      "outputs": [
        {
          "output_type": "stream",
          "text": [
            "[[1.03128116]\n",
            " [3.97887532]]\n"
          ],
          "name": "stdout"
        }
      ]
    }
  ]
}